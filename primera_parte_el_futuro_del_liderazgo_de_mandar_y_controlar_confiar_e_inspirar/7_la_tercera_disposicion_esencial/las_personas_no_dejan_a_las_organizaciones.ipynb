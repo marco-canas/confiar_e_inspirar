{
 "cells": [
  {
   "cell_type": "markdown",
   "metadata": {},
   "source": []
  },
  {
   "cell_type": "markdown",
   "metadata": {},
   "source": [
    "# 7 *La tercera disposición esencial: la inspiración,* o conectar con el porqué"
   ]
  },
  {
   "cell_type": "markdown",
   "metadata": {},
   "source": [
    "Los grandes líderes [...] son capaces de inspirar a las personas para que actúen.  \n",
    "Aquellos que son capaces de inspirar confieren a las personas un sentido de propósito o pertenencia $[\\ldots]$ y son capaces de crear unos seguidores que actúen no porque han sido influenciados, sino porque se han sentido inspirados. \n",
    "Simon Sinek, autor de *Empieza con el porqué*  "
   ]
  },
  {
   "cell_type": "markdown",
   "metadata": {},
   "source": [
    "Inspiración: Conectar con el porqué"
   ]
  },
  {
   "cell_type": "markdown",
   "metadata": {},
   "source": [
    "A uno de los mejores jugadores de hokey de todos los tiempos, Wayne Gretzky, le preguntaron en cierta ocasión cómo había llegado a la cima del deporte. Él respondió: <<Patino hacia donde va a estar el disco, no hacia donde ha estado>>. "
   ]
  },
  {
   "cell_type": "markdown",
   "metadata": {},
   "source": []
  },
  {
   "cell_type": "markdown",
   "metadata": {},
   "source": []
  },
  {
   "cell_type": "code",
   "execution_count": null,
   "metadata": {},
   "outputs": [],
   "source": []
  },
  {
   "cell_type": "code",
   "execution_count": null,
   "metadata": {},
   "outputs": [],
   "source": []
  },
  {
   "cell_type": "code",
   "execution_count": null,
   "metadata": {},
   "outputs": [],
   "source": []
  },
  {
   "cell_type": "code",
   "execution_count": null,
   "metadata": {},
   "outputs": [],
   "source": []
  },
  {
   "cell_type": "code",
   "execution_count": null,
   "metadata": {},
   "outputs": [],
   "source": []
  }
 ],
 "metadata": {
  "language_info": {
   "name": "python"
  }
 },
 "nbformat": 4,
 "nbformat_minor": 2
}
