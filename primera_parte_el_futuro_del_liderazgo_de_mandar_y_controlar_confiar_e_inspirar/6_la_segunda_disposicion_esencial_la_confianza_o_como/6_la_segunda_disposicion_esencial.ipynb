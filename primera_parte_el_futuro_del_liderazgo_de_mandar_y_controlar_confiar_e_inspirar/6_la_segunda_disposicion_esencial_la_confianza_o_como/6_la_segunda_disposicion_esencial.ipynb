{
 "cells": [
  {
   "cell_type": "markdown",
   "metadata": {},
   "source": []
  },
  {
   "cell_type": "markdown",
   "metadata": {},
   "source": []
  },
  {
   "cell_type": "markdown",
   "metadata": {},
   "source": [
    "# 6 La segunda disposición esencial: la confianza o cómo lideramos"
   ]
  },
  {
   "cell_type": "markdown",
   "metadata": {},
   "source": [
    "Página  153.  \n",
    " "
   ]
  },
  {
   "cell_type": "markdown",
   "metadata": {},
   "source": [
    "Recuerde que su auténtica labor consiste en que, si usted es libre, necesita liberar a otros. Si tiene poder, entonces su tarea es empoderar a otros. Toni Morrison. "
   ]
  },
  {
   "cell_type": "markdown",
   "metadata": {},
   "source": [
    "Confianza.  \n",
    "Cómo lideramos.  \n",
    "\n"
   ]
  },
  {
   "cell_type": "markdown",
   "metadata": {},
   "source": [
    "¿Quién confió en usted?  \n",
    "\n",
    "Piense en una persona que confió en usted. "
   ]
  },
  {
   "cell_type": "markdown",
   "metadata": {},
   "source": [
    "Alguien en su vida que creyó en usted, tal vez incluso más de lo que usted creía en sí mismo. "
   ]
  },
  {
   "cell_type": "markdown",
   "metadata": {},
   "source": [
    "Alguien que demostró confianza, que le dio una oportunidad, que depositó su confienza en usted. "
   ]
  },
  {
   "cell_type": "markdown",
   "metadata": {},
   "source": [
    "Podría ser cualquiera: un jefe, un compañero de trabajo, un entrenador, un profesor. "
   ]
  },
  {
   "cell_type": "markdown",
   "metadata": {},
   "source": [
    "Podría ser un padre, un familiar, un clérigo o simplemente un amigo. "
   ]
  },
  {
   "cell_type": "markdown",
   "metadata": {},
   "source": [
    "Cualquiera. "
   ]
  },
  {
   "cell_type": "markdown",
   "metadata": {},
   "source": [
    "Quizá eso sucediera cuando tenía seis o siete años, o tal vez cuando tenía sesenta y siete. "
   ]
  },
  {
   "cell_type": "markdown",
   "metadata": {},
   "source": [
    "No importa quén ni cuándo: será diferente en cada caso. "
   ]
  },
  {
   "cell_type": "markdown",
   "metadata": {},
   "source": [
    "Lo importante es que recuerda a esa persona, lo que hizo y cómo se sintió usted. "
   ]
  },
  {
   "cell_type": "markdown",
   "metadata": {},
   "source": []
  },
  {
   "cell_type": "markdown",
   "metadata": {},
   "source": []
  },
  {
   "cell_type": "code",
   "execution_count": null,
   "metadata": {},
   "outputs": [],
   "source": []
  },
  {
   "cell_type": "code",
   "execution_count": null,
   "metadata": {},
   "outputs": [],
   "source": []
  }
 ],
 "metadata": {
  "language_info": {
   "name": "python"
  },
  "orig_nbformat": 4
 },
 "nbformat": 4,
 "nbformat_minor": 2
}
