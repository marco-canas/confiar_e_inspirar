{
 "cells": [
  {
   "cell_type": "markdown",
   "metadata": {},
   "source": [
    "# Primera parte\n",
    "## El futuro del liderazgo: Del mandar y controlar a confiar e inspirar "
   ]
  },
  {
   "cell_type": "markdown",
   "metadata": {},
   "source": [
    "Ha llegado la hora de una nueva forma de liderar. "
   ]
  },
  {
   "cell_type": "markdown",
   "metadata": {},
   "source": [
    "Llevamos décadas instalados en un estilo de liderazgo anticuado y trillado, que hemos parcheado y apuntalado para intentar que funcione en nuestro mundo cambiante. "
   ]
  },
  {
   "cell_type": "markdown",
   "metadata": {},
   "source": [
    "Ahora bien, las mejoras graduales en el seno de un paradigna defectuoso ya no serán suficientes. "
   ]
  },
  {
   "cell_type": "markdown",
   "metadata": {},
   "source": [
    "Mientras que nuestro mundo ha cambiado, no ha ocurrido lo mismo con nuestra forma de liderar. "
   ]
  },
  {
   "cell_type": "markdown",
   "metadata": {},
   "source": [
    "Ha llegado el momento de un nuevo estilo de liderazgo que sea relevante para nuestros tiempos. "
   ]
  },
  {
   "cell_type": "markdown",
   "metadata": {},
   "source": [
    "No solo ha cambiado el mundo, sino también la naturaleza del propio trabajo, junto con el lugar del trabajo y la fuerza laboral. "
   ]
  },
  {
   "cell_type": "markdown",
   "metadata": {},
   "source": [
    "*Inclusión, colaboración e innovación* ya no son simplemente palabras de moda, sino el peaje imprescindible para el exito en nuestra realidad actual, así como en la realidad futura. "
   ]
  },
  {
   "cell_type": "markdown",
   "metadata": {},
   "source": [
    "Nuestro entorno constantemente disruptivo continúa creando opciones y posibilidades infinitas para una fuerza laboral dispersa, diversa y en rápida evolución. "
   ]
  },
  {
   "cell_type": "markdown",
   "metadata": {},
   "source": [
    "Esta fuerza laboral demanda una nueva clase de líder, un líder capaz de ver, desarrollar y liberar la grandeza de cada persona. "
   ]
  },
  {
   "cell_type": "markdown",
   "metadata": {},
   "source": []
  },
  {
   "cell_type": "code",
   "execution_count": null,
   "metadata": {},
   "outputs": [],
   "source": []
  },
  {
   "cell_type": "code",
   "execution_count": null,
   "metadata": {},
   "outputs": [],
   "source": []
  },
  {
   "cell_type": "code",
   "execution_count": null,
   "metadata": {},
   "outputs": [],
   "source": []
  },
  {
   "cell_type": "code",
   "execution_count": null,
   "metadata": {},
   "outputs": [],
   "source": []
  },
  {
   "cell_type": "code",
   "execution_count": null,
   "metadata": {},
   "outputs": [],
   "source": []
  },
  {
   "cell_type": "code",
   "execution_count": null,
   "metadata": {},
   "outputs": [],
   "source": []
  },
  {
   "cell_type": "code",
   "execution_count": null,
   "metadata": {},
   "outputs": [],
   "source": []
  }
 ],
 "metadata": {
  "kernelspec": {
   "display_name": ".venv",
   "language": "python",
   "name": "python3"
  },
  "language_info": {
   "codemirror_mode": {
    "name": "ipython",
    "version": 3
   },
   "file_extension": ".py",
   "mimetype": "text/x-python",
   "name": "python",
   "nbconvert_exporter": "python",
   "pygments_lexer": "ipython3",
   "version": "3.10.12"
  },
  "orig_nbformat": 4
 },
 "nbformat": 4,
 "nbformat_minor": 2
}
