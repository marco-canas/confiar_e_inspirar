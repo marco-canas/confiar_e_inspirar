{
 "cells": [
  {
   "cell_type": "markdown",
   "metadata": {},
   "source": []
  },
  {
   "cell_type": "markdown",
   "metadata": {},
   "source": [
    "# Primera parte\n",
    "## El futuro del liderazgo: Del mandar y controlar a confiar e inspirar "
   ]
  },
  {
   "cell_type": "markdown",
   "metadata": {},
   "source": [
    "Ha llegado la hora de una nueva forma de liderar. "
   ]
  },
  {
   "cell_type": "markdown",
   "metadata": {},
   "source": [
    "Llevamos décadas instalados en un estilo de liderazgo anticuado y trillado, que hemos parcheado y apuntalado para intentar que funcione en nuestro mundo cambiante. "
   ]
  },
  {
   "cell_type": "markdown",
   "metadata": {},
   "source": [
    "Ahora bien, las mejoras graduales en el seno de un paradigna defectuoso ya no serán suficientes. "
   ]
  },
  {
   "cell_type": "markdown",
   "metadata": {},
   "source": [
    "Mientras que nuestro mundo ha cambiado, no ha ocurrido lo mismo con nuestra forma de liderar. "
   ]
  },
  {
   "cell_type": "markdown",
   "metadata": {},
   "source": [
    "Ha llegado el momento de un nuevo estilo de liderazgo que sea relevante para nuestros tiempos. "
   ]
  },
  {
   "cell_type": "markdown",
   "metadata": {},
   "source": [
    "No solo ha cambiado el mundo, sino también la naturaleza del propio trabajo, junto con el lugar del trabajo y la fuerza laboral. "
   ]
  },
  {
   "cell_type": "markdown",
   "metadata": {},
   "source": [
    "*Inclusión, colaboración e innovación* ya no son simplemente palabras de moda, sino el peaje imprescindible para el exito en nuestra realidad actual, así como en la realidad futura. "
   ]
  },
  {
   "cell_type": "markdown",
   "metadata": {},
   "source": [
    "Nuestro entorno constantemente disruptivo continúa creando opciones y posibilidades infinitas para una fuerza laboral dispersa, diversa y en rápida evolución. "
   ]
  },
  {
   "cell_type": "markdown",
   "metadata": {},
   "source": [
    "Esta fuerza laboral demanda una nueva clase de líder, un líder capaz de ver, desarrollar y liberar la grandeza de cada persona. "
   ]
  },
  {
   "cell_type": "markdown",
   "metadata": {},
   "source": [
    "Un líder capaz de servir de modelo de comportamiento auténtico con humildad y coraje. "
   ]
  },
  {
   "cell_type": "markdown",
   "metadata": {},
   "source": [
    "Un líder capaz de inspirar a los demás para que entreguen de buen grado su corazón y su mente porque dessean contribuir de forma significativa a algo que les importa"
   ]
  },
  {
   "cell_type": "markdown",
   "metadata": {},
   "source": [
    "Cualquiera puede ser esta clase de líder. "
   ]
  },
  {
   "cell_type": "markdown",
   "metadata": {},
   "source": [
    "Todos necesitamos esta clase de líder. "
   ]
  },
  {
   "cell_type": "markdown",
   "metadata": {},
   "source": [
    "Todos los niños, todos los hogares, todos los colegios. "
   ]
  },
  {
   "cell_type": "markdown",
   "metadata": {},
   "source": [
    "Todos los compañeros, los equipos, las organizaciones, las industrias y los países. "
   ]
  },
  {
   "cell_type": "markdown",
   "metadata": {},
   "source": [
    "Eata nueva manera de liderar funciona en cualquier área, contexto y circunstancia, en cualquier sector y rol. "
   ]
  },
  {
   "cell_type": "markdown",
   "metadata": {},
   "source": [
    "Funciona con cualquier tarea que haya que realizar, en medio de los cambios; en cualquier momento, en cualquier lugar y en cualquier relación. "
   ]
  },
  {
   "cell_type": "markdown",
   "metadata": {},
   "source": [
    "Un estilo de liderazgo para la posteridad, un estilo de liderazgo intemporal. \n",
    "Una forma realmente nueva de liderar: *confiar e inspirar*. "
   ]
  },
  {
   "cell_type": "markdown",
   "metadata": {},
   "source": [
    "# 1\n",
    "# *Un mundo ha cambiado, nuestro estilo de liderazgo no*"
   ]
  },
  {
   "cell_type": "markdown",
   "metadata": {},
   "source": [
    "En unos centenares de años, cuando la historia de nuestro tiempo se escriba desde una perspectiva a largo plazo, es probable que el acontecimiento más importante que aprecien los historiadores no sea la tecnología, ni internet, ni el comercio electrónico, sino una transformación sin precedentes en la condición humana. "
   ]
  },
  {
   "cell_type": "markdown",
   "metadata": {},
   "source": [
    "Por primera vez, literalmente, un número sustancial y cada vez mayor de personas tienen libertad de elegir. Por primera vez tendrán que gestionarse a sí mismas. Y la sociedad no está preparada en absoluto para ello. (Peter Drucker)"
   ]
  },
  {
   "cell_type": "markdown",
   "metadata": {},
   "source": [
    "Tuve la fortuna de compartir escenario con mi difunto padre en seminarios públicos, en los que él comenzaba casi todas las sesiones planteando al público dos preguntas simples, pero provocativas: "
   ]
  },
  {
   "cell_type": "markdown",
   "metadata": {},
   "source": [
    "--Que levanten la mano quienes crean que la inmensa mayoría de los trabajadores de su organización poseen mucho más talento, creatividad, ingenio, inteligencia y destreza de los que sus empleos actuales requieren o incluso les permiten aportar. \n",
    "\n",
    "Invariablemente, casi todos los presentes alzaban la mano.  \n",
    "Acto seguido preguntaba: "
   ]
  },
  {
   "cell_type": "markdown",
   "metadata": {},
   "source": []
  },
  {
   "cell_type": "code",
   "execution_count": null,
   "metadata": {
    "vscode": {
     "languageId": "plaintext"
    }
   },
   "outputs": [],
   "source": []
  },
  {
   "cell_type": "code",
   "execution_count": null,
   "metadata": {
    "vscode": {
     "languageId": "plaintext"
    }
   },
   "outputs": [],
   "source": []
  },
  {
   "cell_type": "code",
   "execution_count": null,
   "metadata": {
    "vscode": {
     "languageId": "plaintext"
    }
   },
   "outputs": [],
   "source": []
  },
  {
   "cell_type": "code",
   "execution_count": null,
   "metadata": {
    "vscode": {
     "languageId": "plaintext"
    }
   },
   "outputs": [],
   "source": []
  },
  {
   "cell_type": "code",
   "execution_count": null,
   "metadata": {
    "vscode": {
     "languageId": "plaintext"
    }
   },
   "outputs": [],
   "source": []
  }
 ],
 "metadata": {
  "kernelspec": {
   "display_name": ".venv",
   "language": "python",
   "name": "python3"
  },
  "language_info": {
   "codemirror_mode": {
    "name": "ipython",
    "version": 3
   },
   "file_extension": ".py",
   "mimetype": "text/x-python",
   "name": "python",
   "nbconvert_exporter": "python",
   "pygments_lexer": "ipython3",
   "version": "3.10.12"
  },
  "orig_nbformat": 4
 },
 "nbformat": 4,
 "nbformat_minor": 2
}
