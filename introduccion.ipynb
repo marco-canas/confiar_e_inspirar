{
 "cells": [
  {
   "cell_type": "code",
   "execution_count": null,
   "metadata": {},
   "outputs": [],
   "source": []
  },
  {
   "cell_type": "code",
   "execution_count": null,
   "metadata": {},
   "outputs": [],
   "source": []
  },
  {
   "cell_type": "markdown",
   "metadata": {},
   "source": [
    "# Introducción"
   ]
  },
  {
   "cell_type": "markdown",
   "metadata": {},
   "source": [
    "La temperatura más alta jamás registrada sobre la faz de la tierra es $56,7$ sofocantes grados centígrados. Este récord se estableció el 10 de julio de 1913, en el Valle de la Muerte de California."
   ]
  },
  {
   "cell_type": "markdown",
   "metadata": {},
   "source": [
    "En el Valle de la Muerte no crece nada debido al calor y la sequía extremos. "
   ]
  },
  {
   "cell_type": "markdown",
   "metadata": {},
   "source": []
  },
  {
   "cell_type": "code",
   "execution_count": null,
   "metadata": {},
   "outputs": [],
   "source": []
  },
  {
   "cell_type": "code",
   "execution_count": null,
   "metadata": {},
   "outputs": [],
   "source": []
  }
 ],
 "metadata": {
  "language_info": {
   "name": "python"
  },
  "orig_nbformat": 4
 },
 "nbformat": 4,
 "nbformat_minor": 2
}
